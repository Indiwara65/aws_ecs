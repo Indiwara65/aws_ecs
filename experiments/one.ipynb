{
 "cells": [
  {
   "cell_type": "code",
   "execution_count": 2,
   "id": "d4f8e482",
   "metadata": {},
   "outputs": [],
   "source": [
    "from datetime import datetime\n",
    "from pydantic import BaseModel"
   ]
  },
  {
   "cell_type": "code",
   "execution_count": 8,
   "id": "4ffe54d1",
   "metadata": {},
   "outputs": [],
   "source": [
    "class Session(BaseModel):\n",
    "    sessionID : int\n",
    "    created : datetime\n",
    "\n",
    "    def __str__(self):\n",
    "        return super().__str__()"
   ]
  },
  {
   "cell_type": "code",
   "execution_count": 10,
   "id": "0d7b1585",
   "metadata": {},
   "outputs": [
    {
     "name": "stdout",
     "output_type": "stream",
     "text": [
      "sessionID=10 created=datetime.datetime(2025, 6, 15, 19, 43, 32, 361841)\n"
     ]
    }
   ],
   "source": [
    "session = Session(sessionID=10, created=datetime.now())\n",
    "print(session)"
   ]
  },
  {
   "cell_type": "code",
   "execution_count": 11,
   "id": "e95e14b4",
   "metadata": {},
   "outputs": [],
   "source": [
    "import random"
   ]
  },
  {
   "cell_type": "code",
   "execution_count": 13,
   "id": "79e1d9f3",
   "metadata": {},
   "outputs": [
    {
     "data": {
      "text/plain": [
       "6158"
      ]
     },
     "execution_count": 13,
     "metadata": {},
     "output_type": "execute_result"
    }
   ],
   "source": [
    "random.randint(1000,10000)"
   ]
  },
  {
   "cell_type": "code",
   "execution_count": 14,
   "id": "c54135f3",
   "metadata": {},
   "outputs": [],
   "source": [
    "class Login(BaseModel):\n",
    "    username : str\n",
    "    password : str\n",
    "\n",
    "login = Login(username=\"hello\", password=\"world\")"
   ]
  },
  {
   "cell_type": "code",
   "execution_count": 17,
   "id": "f6aae984",
   "metadata": {},
   "outputs": [
    {
     "data": {
      "text/plain": [
       "('hello', 'world')"
      ]
     },
     "execution_count": 17,
     "metadata": {},
     "output_type": "execute_result"
    }
   ],
   "source": [
    "login.username, login.password"
   ]
  },
  {
   "cell_type": "code",
   "execution_count": null,
   "id": "85ef9986",
   "metadata": {},
   "outputs": [],
   "source": []
  }
 ],
 "metadata": {
  "kernelspec": {
   "display_name": "venv",
   "language": "python",
   "name": "python3"
  },
  "language_info": {
   "codemirror_mode": {
    "name": "ipython",
    "version": 3
   },
   "file_extension": ".py",
   "mimetype": "text/x-python",
   "name": "python",
   "nbconvert_exporter": "python",
   "pygments_lexer": "ipython3",
   "version": "3.11.3"
  }
 },
 "nbformat": 4,
 "nbformat_minor": 5
}
